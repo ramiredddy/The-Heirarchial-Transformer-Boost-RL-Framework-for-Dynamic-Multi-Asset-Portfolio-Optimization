{
  "nbformat": 4,
  "nbformat_minor": 0,
  "metadata": {
    "colab": {
      "provenance": [],
      "gpuType": "T4"
    },
    "kernelspec": {
      "name": "python3",
      "display_name": "Python 3"
    },
    "language_info": {
      "name": "python"
    },
    "accelerator": "GPU"
  },
  "cells": [
    {
      "cell_type": "code",
      "execution_count": null,
      "metadata": {
        "id": "zIKdetXVk6ib"
      },
      "outputs": [],
      "source": [
        "# Cell 1 - Install dependencies\n",
        "!pip -q install \"numpy<2.3\" yfinance pandas scikit-learn matplotlib \\\n",
        "                 torch xgboost stable-baselines3 gymnasium shimmy seaborn\n",
        "\n",
        "import warnings, gc, os, pathlib, pickle\n",
        "import numpy as np, pandas as pd, matplotlib.pyplot as plt\n",
        "warnings.filterwarnings(\"ignore\", category=FutureWarning)\n",
        "\n",
        "import torch\n",
        "from tqdm.auto import tqdm\n",
        "from sklearn.preprocessing import MinMaxScaler\n",
        "from sklearn.covariance import LedoitWolf\n",
        "from sklearn.metrics import (mean_absolute_error, mean_squared_error, r2_score,\n",
        "                             accuracy_score, confusion_matrix, classification_report)\n",
        "import yfinance as yf\n",
        "from stable_baselines3 import PPO\n",
        "from stable_baselines3.common.env_util import make_vec_env\n",
        "import gymnasium as gym\n",
        "from xgboost import XGBClassifier\n",
        "import seaborn as sns\n",
        "\n",
        "def release_memory():\n",
        "    gc.collect()\n",
        "    if torch.cuda.is_available():\n",
        "        torch.cuda.empty_cache()\n",
        "    print(\"🧹 Memory released.\")\n"
      ]
    },
    {
      "cell_type": "code",
      "source": [
        "# Cell 2 - Config\n",
        "START, END = \"2010-01-01\", \"2024-12-31\"\n",
        "TICKERS    = {\"AAPL\":\"AAPL\", \"EURUSD\":\"EURUSD=X\", \"GOLD\":\"GC=F\"}\n",
        "\n",
        "device = \"cuda\" if torch.cuda.is_available() else \"cpu\"\n",
        "print(\"✅ Device:\", device)\n"
      ],
      "metadata": {
        "colab": {
          "base_uri": "https://localhost:8080/"
        },
        "id": "OnM0Bfszk9kd",
        "outputId": "fa3ae62e-b4b6-4407-e5fa-78a194e23c24"
      },
      "execution_count": null,
      "outputs": [
        {
          "output_type": "stream",
          "name": "stdout",
          "text": [
            "✅ Device: cuda\n"
          ]
        }
      ]
    },
    {
      "cell_type": "code",
      "source": [
        "# Cell 3 - Prices & Returns\n",
        "price_frames = []\n",
        "for name, ticker in TICKERS.items():\n",
        "    df = yf.download(ticker, start=START, end=END, progress=False)[[\"Close\"]]\n",
        "    df.rename(columns={\"Close\": f\"{name}_Close\"}, inplace=True)\n",
        "    price_frames.append(df)\n",
        "\n",
        "prices = pd.concat(price_frames, axis=1).dropna()# Proper flatten: combine levels into single string\n",
        "prices.columns = [f\"{a}_{b}\" if b != \"\" else a for a, b in prices.columns]\n",
        "rets.columns   = [f\"{a}_{b}\" if b != \"\" else a for a, b in rets.columns]\n",
        "\n",
        "print(\"Merged prices:\", prices.shape)\n",
        "print(prices.head())\n",
        "print(\"\\nReturns:\", rets.shape)\n",
        "print(rets.head())\n",
        "\n"
      ],
      "metadata": {
        "id": "dtd0gRfAlLhX",
        "colab": {
          "base_uri": "https://localhost:8080/"
        },
        "outputId": "00f16dfd-ed8b-4488-b05c-8c0a96e7ae3a"
      },
      "execution_count": null,
      "outputs": [
        {
          "output_type": "stream",
          "name": "stdout",
          "text": [
            "Merged prices: (3765, 3)\n",
            "            AAPL_Close_AAPL  EURUSD_Close_EURUSD=X  GOLD_Close_GC=F\n",
            "Date                                                               \n",
            "2010-01-04         6.424605               1.442398      1117.699951\n",
            "2010-01-05         6.435713               1.436596      1118.099976\n",
            "2010-01-06         6.333344               1.440403      1135.900024\n",
            "2010-01-07         6.321634               1.431803      1133.099976\n",
            "2010-01-08         6.363664               1.441109      1138.199951\n",
            "\n",
            "Returns: (3764, 3)\n",
            "            AAPL_Close_AAPL  EURUSD_Close_EURUSD=X  GOLD_Close_GC=F\n",
            "Date                                                               \n",
            "2010-01-05         0.001727              -0.004031         0.000358\n",
            "2010-01-06        -0.016034               0.002647         0.015795\n",
            "2010-01-07        -0.001851              -0.005989        -0.002468\n",
            "2010-01-08         0.006626               0.006478         0.004491\n",
            "2010-01-11        -0.008860               0.006927         0.010922\n"
          ]
        }
      ]
    },
    {
      "cell_type": "code",
      "source": [
        "# Cell 4 - Features (no sentiment)\n",
        "window = 30\n",
        "rets_arr = rets.values\n",
        "covs = []\n",
        "lw = LedoitWolf()\n",
        "for i in range(window, len(rets_arr)):\n",
        "    covs.append(lw.fit(rets_arr[i-window:i]).covariance_)\n",
        "covs = np.array(covs, dtype=\"float32\")\n",
        "\n",
        "# Simple moving averages as features\n",
        "ma_fast = prices.rolling(10).mean()\n",
        "ma_slow = prices.rolling(50).mean()\n",
        "ma_feat = (ma_fast / ma_slow - 1).dropna()\n",
        "\n",
        "# Align all features\n",
        "X = ma_feat.iloc[window:].copy()\n",
        "y = rets.iloc[window:].copy()\n",
        "print(\"Features:\", X.shape, \"Targets:\", y.shape)\n"
      ],
      "metadata": {
        "colab": {
          "base_uri": "https://localhost:8080/"
        },
        "id": "OiNUyZZdIFpQ",
        "outputId": "0832f5ee-63ea-4768-d4b0-77bf1c735ef5"
      },
      "execution_count": null,
      "outputs": [
        {
          "output_type": "stream",
          "name": "stdout",
          "text": [
            "Features: (3686, 3) Targets: (3734, 3)\n"
          ]
        }
      ]
    },
    {
      "cell_type": "code",
      "source": [
        "# CELL: Robust feature build + XGBoost training per asset\n",
        "# Assumes 'prices' and 'rets' exist (DataFrames) already computed in earlier cells.\n",
        "\n",
        "import numpy as np\n",
        "from xgboost import XGBClassifier\n",
        "from sklearn.metrics import accuracy_score\n",
        "\n",
        "SEED = 42\n",
        "\n",
        "# 1) Flatten MultiIndex columns if present (safe idempotent)\n",
        "def flatten_cols(df):\n",
        "    cols = []\n",
        "    for c in df.columns:\n",
        "        if isinstance(c, tuple):\n",
        "            # join with underscore, remove empty pieces\n",
        "            cols.append(\"_\".join([str(x) for x in c if x != \"\"]))\n",
        "        else:\n",
        "            cols.append(str(c))\n",
        "    df.columns = cols\n",
        "    return df\n",
        "\n",
        "prices = flatten_cols(prices.copy())\n",
        "rets   = flatten_cols(rets.copy())\n",
        "\n",
        "print(\"After flattening, price cols:\", list(prices.columns))\n",
        "print(\"After flattening, return cols:\", list(rets.columns))\n",
        "\n",
        "# 2) Build features (lag returns, rolling vol, MA ratio) and DROP rows with any NaN\n",
        "feat = pd.DataFrame(index=rets.index)\n",
        "\n",
        "for pcol in prices.columns:\n",
        "    # find matching returns column (we expect names to share prefix like 'AAPL_Close' etc.)\n",
        "    # Here we assume pcol and returns column have same prefix; if not, user should adapt naming.\n",
        "    # Use exact matching where possible:\n",
        "    if pcol in rets.columns:\n",
        "        ret_col = pcol\n",
        "    else:\n",
        "        # fallback: try match by asset prefix (part before first underscore)\n",
        "        prefix = pcol.split(\"_\")[0]\n",
        "        matches = [c for c in rets.columns if c.startswith(prefix)]\n",
        "        ret_col = matches[0] if matches else None\n",
        "\n",
        "    # if we have a matching return column, create features\n",
        "    if ret_col is None:\n",
        "        # skip if can't match\n",
        "        continue\n",
        "\n",
        "    # lag-1 return\n",
        "    feat[f\"{ret_col}_r1\"] = rets[ret_col].shift(1)\n",
        "\n",
        "    # rolling volatility (20 days)\n",
        "    feat[f\"{ret_col}_vol20\"] = rets[ret_col].rolling(20).std().shift(1)\n",
        "\n",
        "    # MA ratio (fast=10 / slow=50) computed on prices; shift(1) so it's based on past\n",
        "    ma_fast = prices[pcol].rolling(10).mean().shift(1)\n",
        "    ma_slow = prices[pcol].rolling(50).mean().shift(1)\n",
        "    feat[f\"{ret_col}_ma10_50\"] = (ma_fast / ma_slow - 1.0)\n",
        "\n",
        "# drop rows with any NaN (these come from initial windows)\n",
        "feat = feat.dropna(how='any')\n",
        "print(\"Feature matrix shape (after dropna):\", feat.shape)\n",
        "\n",
        "# 3) Train a classifier per asset (aligned to features.index)\n",
        "results = {}\n",
        "for asset_col in rets.columns:\n",
        "    # Next-day return = label source\n",
        "    r_next = rets[asset_col].shift(-1).reindex(feat.index)\n",
        "\n",
        "    # compute volatility-based threshold per day to keep labels adaptive\n",
        "    vol = rets[asset_col].rolling(20).std().reindex(feat.index).bfill().values\n",
        "    tau = 0.25 * vol  # tau per-day\n",
        "\n",
        "    # Label mapping: 0=Down, 1=Flat, 2=Up\n",
        "    y = pd.Series(1, index=feat.index, dtype=int)\n",
        "    y[r_next < -tau] = 0\n",
        "    y[r_next >  tau] = 2\n",
        "\n",
        "    # drop any locations where r_next is NaN (edge of series)\n",
        "    valid_mask = r_next.notna()\n",
        "    X_train = feat.loc[valid_mask, :].copy()\n",
        "    y_train = y.loc[valid_mask].astype(int).copy()\n",
        "\n",
        "    # Safety checks\n",
        "    assert len(X_train) == len(y_train), f\"Length mismatch for {asset_col}: X={len(X_train)} y={len(y_train)}\"\n",
        "    print(f\"\\nTraining for {asset_col} | X.shape={X_train.shape} | y.shape={y_train.shape}\")\n",
        "    unique, counts = np.unique(y_train.values, return_counts=True)\n",
        "    print(\"  class dist:\", dict(zip(unique, counts)))\n",
        "\n",
        "    if len(y_train) < 50:\n",
        "        print(\"  Skipping - too few training samples.\")\n",
        "        continue\n",
        "\n",
        "    # Train XGBoost (multiclass: 3 classes)\n",
        "    clf = XGBClassifier(\n",
        "        objective=\"multi:softprob\",\n",
        "        num_class=3,\n",
        "        n_estimators=150,\n",
        "        max_depth=3,\n",
        "        random_state=SEED,\n",
        "        use_label_encoder=False,\n",
        "        eval_metric=\"mlogloss\",\n",
        "        tree_method=\"hist\"\n",
        "    )\n",
        "    clf.fit(X_train.values, y_train.values)\n",
        "\n",
        "    preds = clf.predict(X_train.values)\n",
        "    acc = accuracy_score(y_train.values, preds)\n",
        "    print(f\"  Trained {asset_col} | training accuracy: {acc:.4f}\")\n",
        "\n",
        "    results[asset_col] = {\"clf\": clf, \"acc\": acc, \"X_index\": X_train.index}\n",
        "\n",
        "print(\"\\nAll done. results keys:\", list(results.keys()))\n"
      ],
      "metadata": {
        "colab": {
          "base_uri": "https://localhost:8080/"
        },
        "id": "2ljMHM5UlNl0",
        "outputId": "b8b43df5-69ab-4d2c-acd4-986419c998f2"
      },
      "execution_count": null,
      "outputs": [
        {
          "output_type": "stream",
          "name": "stdout",
          "text": [
            "After flattening, price cols: ['AAPL_Close_AAPL', 'EURUSD_Close_EURUSD=X', 'GOLD_Close_GC=F']\n",
            "After flattening, return cols: ['AAPL_Close_AAPL', 'EURUSD_Close_EURUSD=X', 'GOLD_Close_GC=F']\n",
            "Feature matrix shape (after dropna): (3715, 9)\n",
            "\n",
            "Training for AAPL_Close_AAPL | X.shape=(3714, 9) | y.shape=(3714,)\n",
            "  class dist: {np.int64(0): np.int64(1303), np.int64(1): np.int64(854), np.int64(2): np.int64(1557)}\n",
            "  Trained AAPL_Close_AAPL | training accuracy: 0.7725\n",
            "\n",
            "Training for EURUSD_Close_EURUSD=X | X.shape=(3714, 9) | y.shape=(3714,)\n",
            "  class dist: {np.int64(0): np.int64(1487), np.int64(1): np.int64(755), np.int64(2): np.int64(1472)}\n",
            "  Trained EURUSD_Close_EURUSD=X | training accuracy: 0.7803\n",
            "\n",
            "Training for GOLD_Close_GC=F | X.shape=(3714, 9) | y.shape=(3714,)\n",
            "  class dist: {np.int64(0): np.int64(1319), np.int64(1): np.int64(900), np.int64(2): np.int64(1495)}\n",
            "  Trained GOLD_Close_GC=F | training accuracy: 0.7628\n",
            "\n",
            "All done. results keys: ['AAPL_Close_AAPL', 'EURUSD_Close_EURUSD=X', 'GOLD_Close_GC=F']\n"
          ]
        }
      ]
    },
    {
      "cell_type": "code",
      "source": [
        "print(\"feat index min/max:\", feat.index.min(), feat.index.max())\n",
        "print(\"rets index min/max:\", rets.index.min(), rets.index.max())\n",
        "print(\"len feat, len rets:\", len(feat), len(rets))\n"
      ],
      "metadata": {
        "colab": {
          "base_uri": "https://localhost:8080/"
        },
        "id": "P3SxANQ-S2JR",
        "outputId": "0b92f320-a70b-4932-eac4-ab51ffff8408"
      },
      "execution_count": null,
      "outputs": [
        {
          "output_type": "stream",
          "name": "stdout",
          "text": [
            "feat index min/max: 2010-03-17 00:00:00 2024-12-30 00:00:00\n",
            "rets index min/max: 2010-01-05 00:00:00 2024-12-30 00:00:00\n",
            "len feat, len rets: 3715 3764\n"
          ]
        }
      ]
    },
    {
      "cell_type": "code",
      "source": [
        "from sklearn.model_selection import train_test_split\n",
        "from sklearn.metrics import classification_report\n",
        "\n",
        "# We will split features/labels per asset consistently\n",
        "eval_results = {}\n",
        "\n",
        "for asset_col, res in results.items():\n",
        "    clf = res[\"clf\"]\n",
        "\n",
        "    # Build full aligned dataset again\n",
        "    r_next = rets[asset_col].shift(-1).reindex(feat.index)\n",
        "    vol = rets[asset_col].rolling(20).std().reindex(feat.index).bfill().values\n",
        "    tau = 0.25 * vol\n",
        "    y = pd.Series(1, index=feat.index, dtype=int)\n",
        "    y[r_next < -tau] = 0\n",
        "    y[r_next >  tau] = 2\n",
        "    valid_mask = r_next.notna()\n",
        "    X_all = feat.loc[valid_mask, :]\n",
        "    y_all = y.loc[valid_mask]\n",
        "\n",
        "    # Split train/test by time (80% train, 20% test)\n",
        "    split = int(len(X_all) * 0.8)\n",
        "    X_train, X_test = X_all.iloc[:split], X_all.iloc[split:]\n",
        "    y_train, y_test = y_all.iloc[:split], y_all.iloc[split:]\n",
        "\n",
        "    preds_train = clf.predict(X_train.values)\n",
        "    preds_test  = clf.predict(X_test.values)\n",
        "\n",
        "    print(f\"\\n📊 Asset: {asset_col}\")\n",
        "    print(\"Train accuracy:\", accuracy_score(y_train, preds_train))\n",
        "    print(\"Test accuracy :\", accuracy_score(y_test, preds_test))\n",
        "    print(\"\\nClassification report (test):\\n\", classification_report(y_test, preds_test))\n",
        "\n",
        "    eval_results[asset_col] = {\n",
        "        \"train_acc\": accuracy_score(y_train, preds_train),\n",
        "        \"test_acc\": accuracy_score(y_test, preds_test)\n",
        "    }\n"
      ],
      "metadata": {
        "id": "XiORUfuWlQ4J",
        "colab": {
          "base_uri": "https://localhost:8080/"
        },
        "outputId": "81c51019-ac21-4ae3-979a-a9f35c9add67"
      },
      "execution_count": null,
      "outputs": [
        {
          "output_type": "stream",
          "name": "stdout",
          "text": [
            "\n",
            "📊 Asset: AAPL_Close_AAPL\n",
            "Train accuracy: 0.7744867048131943\n",
            "Test accuracy : 0.7644683714670256\n",
            "\n",
            "Classification report (test):\n",
            "               precision    recall  f1-score   support\n",
            "\n",
            "           0       0.78      0.78      0.78       276\n",
            "           1       0.87      0.50      0.63       157\n",
            "           2       0.73      0.88      0.80       310\n",
            "\n",
            "    accuracy                           0.76       743\n",
            "   macro avg       0.79      0.72      0.74       743\n",
            "weighted avg       0.78      0.76      0.76       743\n",
            "\n",
            "\n",
            "📊 Asset: EURUSD_Close_EURUSD=X\n",
            "Train accuracy: 0.7839111410299563\n",
            "Test accuracy : 0.765814266487214\n",
            "\n",
            "Classification report (test):\n",
            "               precision    recall  f1-score   support\n",
            "\n",
            "           0       0.76      0.85      0.80       301\n",
            "           1       0.90      0.49      0.64       158\n",
            "           2       0.74      0.83      0.78       284\n",
            "\n",
            "    accuracy                           0.77       743\n",
            "   macro avg       0.80      0.72      0.74       743\n",
            "weighted avg       0.78      0.77      0.76       743\n",
            "\n",
            "\n",
            "📊 Asset: GOLD_Close_GC=F\n",
            "Train accuracy: 0.7653988556041736\n",
            "Test accuracy : 0.7523553162853297\n",
            "\n",
            "Classification report (test):\n",
            "               precision    recall  f1-score   support\n",
            "\n",
            "           0       0.77      0.74      0.76       258\n",
            "           1       0.87      0.49      0.63       173\n",
            "           2       0.71      0.90      0.80       312\n",
            "\n",
            "    accuracy                           0.75       743\n",
            "   macro avg       0.78      0.71      0.73       743\n",
            "weighted avg       0.77      0.75      0.74       743\n",
            "\n"
          ]
        }
      ]
    },
    {
      "cell_type": "code",
      "source": [
        "# Store directional probabilities per asset for RL\n",
        "prob_signals = {}\n",
        "\n",
        "for asset_col, res in results.items():\n",
        "    clf = res[\"clf\"]\n",
        "\n",
        "    # Compute class probabilities (Down, Flat, Up) across all dates\n",
        "    probs = clf.predict_proba(feat.values)\n",
        "    probs_df = pd.DataFrame(\n",
        "        probs, index=feat.index, columns=[\"Down\", \"Flat\", \"Up\"]\n",
        "    )\n",
        "    prob_signals[asset_col] = probs_df\n",
        "\n",
        "    print(f\"\\n🔮 Sample probabilities for {asset_col}:\")\n",
        "    print(probs_df.head())\n"
      ],
      "metadata": {
        "id": "3GvgPoWTnJyZ",
        "colab": {
          "base_uri": "https://localhost:8080/"
        },
        "outputId": "345b556a-c17f-4fd9-c093-17ff3c26c49f"
      },
      "execution_count": null,
      "outputs": [
        {
          "output_type": "stream",
          "name": "stdout",
          "text": [
            "\n",
            "🔮 Sample probabilities for AAPL_Close_AAPL:\n",
            "                Down      Flat        Up\n",
            "Date                                    \n",
            "2010-03-17  0.290043  0.302941  0.407016\n",
            "2010-03-18  0.348648  0.251097  0.400256\n",
            "2010-03-19  0.217138  0.217032  0.565830\n",
            "2010-03-22  0.316232  0.261958  0.421811\n",
            "2010-03-23  0.298245  0.167883  0.533872\n",
            "\n",
            "🔮 Sample probabilities for EURUSD_Close_EURUSD=X:\n",
            "                Down      Flat        Up\n",
            "Date                                    \n",
            "2010-03-17  0.639051  0.072745  0.288204\n",
            "2010-03-18  0.415908  0.296800  0.287293\n",
            "2010-03-19  0.456257  0.158135  0.385607\n",
            "2010-03-22  0.406495  0.242555  0.350950\n",
            "2010-03-23  0.511563  0.099241  0.389196\n",
            "\n",
            "🔮 Sample probabilities for GOLD_Close_GC=F:\n",
            "                Down      Flat        Up\n",
            "Date                                    \n",
            "2010-03-17  0.271904  0.360936  0.367161\n",
            "2010-03-18  0.658504  0.113464  0.228032\n",
            "2010-03-19  0.630456  0.192245  0.177299\n",
            "2010-03-22  0.430534  0.198991  0.370475\n",
            "2010-03-23  0.558084  0.137174  0.304743\n"
          ]
        }
      ]
    },
    {
      "cell_type": "code",
      "source": [
        "# Build combined state features for RL\n",
        "state = pd.DataFrame(index=feat.index)\n",
        "\n",
        "for asset_col in rets.columns:\n",
        "    # include raw return (lagged) as feature\n",
        "    state[f\"{asset_col}_r1\"] = rets[asset_col].shift(1).reindex(feat.index)\n",
        "\n",
        "    # include rolling volatility\n",
        "    state[f\"{asset_col}_vol20\"] = rets[asset_col].rolling(20).std().shift(1).reindex(feat.index)\n",
        "\n",
        "    # include probability signals\n",
        "    if asset_col in prob_signals:\n",
        "        probs = prob_signals[asset_col].reindex(feat.index)\n",
        "        for c in [\"Down\",\"Flat\",\"Up\"]:\n",
        "            state[f\"{asset_col}_{c}\"] = probs[c]\n",
        "\n",
        "# Drop NaNs from state\n",
        "state = state.dropna(how=\"any\")\n",
        "print(\"RL state shape:\", state.shape)\n",
        "print(state.head())\n"
      ],
      "metadata": {
        "id": "qv6_xv_bnLm0",
        "colab": {
          "base_uri": "https://localhost:8080/"
        },
        "outputId": "87a89ca3-f743-487d-9910-0d91be444a76"
      },
      "execution_count": null,
      "outputs": [
        {
          "output_type": "stream",
          "name": "stdout",
          "text": [
            "RL state shape: (3715, 15)\n",
            "            AAPL_Close_AAPL_r1  AAPL_Close_AAPL_vol20  AAPL_Close_AAPL_Down  \\\n",
            "Date                                                                          \n",
            "2010-03-17            0.002721               0.012521              0.290043   \n",
            "2010-03-18           -0.001471               0.012431              0.348648   \n",
            "2010-03-19            0.002362               0.012425              0.217138   \n",
            "2010-03-22           -0.010741               0.012679              0.316232   \n",
            "2010-03-23            0.011186               0.012475              0.298245   \n",
            "\n",
            "            AAPL_Close_AAPL_Flat  AAPL_Close_AAPL_Up  \\\n",
            "Date                                                   \n",
            "2010-03-17              0.302941            0.407016   \n",
            "2010-03-18              0.251097            0.400256   \n",
            "2010-03-19              0.217032            0.565830   \n",
            "2010-03-22              0.261958            0.421811   \n",
            "2010-03-23              0.167883            0.533872   \n",
            "\n",
            "            EURUSD_Close_EURUSD=X_r1  EURUSD_Close_EURUSD=X_vol20  \\\n",
            "Date                                                                \n",
            "2010-03-17                  0.006656                     0.006391   \n",
            "2010-03-18                 -0.002214                     0.005801   \n",
            "2010-03-19                 -0.009094                     0.005643   \n",
            "2010-03-22                 -0.005675                     0.005197   \n",
            "2010-03-23                  0.002223                     0.005226   \n",
            "\n",
            "            EURUSD_Close_EURUSD=X_Down  EURUSD_Close_EURUSD=X_Flat  \\\n",
            "Date                                                                 \n",
            "2010-03-17                    0.639051                    0.072745   \n",
            "2010-03-18                    0.415908                    0.296800   \n",
            "2010-03-19                    0.456257                    0.158135   \n",
            "2010-03-22                    0.406495                    0.242555   \n",
            "2010-03-23                    0.511563                    0.099241   \n",
            "\n",
            "            EURUSD_Close_EURUSD=X_Up  GOLD_Close_GC=F_r1  \\\n",
            "Date                                                       \n",
            "2010-03-17                  0.288204            0.015355   \n",
            "2010-03-18                  0.287293            0.001603   \n",
            "2010-03-19                  0.385607            0.003020   \n",
            "2010-03-22                  0.350950           -0.017899   \n",
            "2010-03-23                  0.389196           -0.007341   \n",
            "\n",
            "            GOLD_Close_GC=F_vol20  GOLD_Close_GC=F_Down  GOLD_Close_GC=F_Flat  \\\n",
            "Date                                                                            \n",
            "2010-03-17               0.008323              0.271904              0.360936   \n",
            "2010-03-18               0.008329              0.658504              0.113464   \n",
            "2010-03-19               0.008344              0.630456              0.192245   \n",
            "2010-03-22               0.009263              0.430534              0.198991   \n",
            "2010-03-23               0.009245              0.558084              0.137174   \n",
            "\n",
            "            GOLD_Close_GC=F_Up  \n",
            "Date                            \n",
            "2010-03-17            0.367161  \n",
            "2010-03-18            0.228032  \n",
            "2010-03-19            0.177299  \n",
            "2010-03-22            0.370475  \n",
            "2010-03-23            0.304743  \n"
          ]
        }
      ]
    },
    {
      "cell_type": "code",
      "source": [
        "# Align prices with state dates\n",
        "prices_aligned = prices.reindex(state.index).copy()\n",
        "rets_aligned   = rets.reindex(state.index).copy()\n",
        "\n",
        "print(\"prices_aligned:\", prices_aligned.shape)\n",
        "print(\"rets_aligned:\", rets_aligned.shape)\n",
        "print(\"state:\", state.shape)\n"
      ],
      "metadata": {
        "id": "eY4TklXHnNLH",
        "colab": {
          "base_uri": "https://localhost:8080/"
        },
        "outputId": "b307811b-7e78-47a3-82d7-daddd9c559cf"
      },
      "execution_count": null,
      "outputs": [
        {
          "output_type": "stream",
          "name": "stdout",
          "text": [
            "prices_aligned: (3715, 3)\n",
            "rets_aligned: (3715, 3)\n",
            "state: (3715, 15)\n"
          ]
        }
      ]
    },
    {
      "cell_type": "code",
      "source": [
        "# Cell 10 (REPLACEMENT) - Full PortfolioEnv with robust seeding (no .seed() call)\n",
        "import numpy as np\n",
        "import gymnasium as gym\n",
        "from gymnasium import spaces\n",
        "\n",
        "SEED = globals().get(\"SEED\", 42)\n",
        "RL_TIMESTEPS = globals().get(\"RL_TIMESTEPS\", 20000)\n",
        "\n",
        "class PortfolioEnv(gym.Env):\n",
        "    \"\"\"\n",
        "    Full portfolio env:\n",
        "      - action: allocation vector (non-negative), normalized to sum=1\n",
        "      - obs: concatenation of state row (features) + previous weights\n",
        "      - reward: portfolio return net of transaction costs - drawdown penalty - turnover penalty\n",
        "    \"\"\"\n",
        "    metadata = {\"render.modes\": [\"human\"]}\n",
        "\n",
        "    def __init__(self,\n",
        "                 prices: pd.DataFrame,\n",
        "                 returns: pd.DataFrame,\n",
        "                 state_df: pd.DataFrame,\n",
        "                 tcosts: list | np.ndarray = None,\n",
        "                 turnover_penalty: float = 0.0,\n",
        "                 drawdown_lambda: float = 1.0,\n",
        "                 seed: int | None = None):\n",
        "        super().__init__()\n",
        "\n",
        "        # store (we expect DataFrames aligned by index)\n",
        "        self.prices = prices.reset_index(drop=True).astype(np.float32)\n",
        "        self.returns = returns.reset_index(drop=True).astype(np.float32)\n",
        "        # state_df may be DataFrame -- keep copy and values\n",
        "        if isinstance(state_df, pd.DataFrame):\n",
        "            self.state = state_df.reset_index(drop=True).astype(np.float32).values\n",
        "            self._dates = state_df.index\n",
        "        else:\n",
        "            self.state = np.asarray(state_df, dtype=np.float32)\n",
        "            self._dates = None\n",
        "\n",
        "        assert len(self.state) == len(self.returns) == len(self.prices), \\\n",
        "            f\"Alignment error: lengths must match (state {len(self.state)}, rets {len(self.returns)}, prices {len(self.prices)})\"\n",
        "\n",
        "        self.T = len(self.state)\n",
        "        self.n_assets = self.returns.shape[1]\n",
        "\n",
        "        # costs & penalties\n",
        "        if tcosts is None:\n",
        "            self.tcosts = np.array([0.0005]*self.n_assets, dtype=np.float32)\n",
        "        else:\n",
        "            self.tcosts = np.array(tcosts, dtype=np.float32)\n",
        "\n",
        "        self.turnover_penalty = float(turnover_penalty)\n",
        "        self.drawdown_lambda = float(drawdown_lambda)\n",
        "\n",
        "        # observation & action spaces\n",
        "        obs_dim = self.state.shape[1] + self.n_assets\n",
        "        self.observation_space = spaces.Box(low=-np.inf, high=np.inf, shape=(obs_dim,), dtype=np.float32)\n",
        "        self.action_space = spaces.Box(low=0.0, high=1.0, shape=(self.n_assets,), dtype=np.float32)\n",
        "\n",
        "        # runtime variables\n",
        "        self.t = 0\n",
        "        self.w_prev = np.zeros(self.n_assets, dtype=np.float32)\n",
        "        self.equity = 1.0\n",
        "        self.equity_series = []\n",
        "        self.peak = 1.0\n",
        "\n",
        "        # rng: use gym seeding utility to get a PRNG (works across gym/numpy versions)\n",
        "        self.np_random, _ = gym.utils.seeding.np_random(seed if seed is not None else SEED)\n",
        "\n",
        "    def reset(self, *, seed=None, options=None):\n",
        "        # Do not call .seed() on np_random (may be Generator). Instead reassign via gym seeding util.\n",
        "        if seed is not None:\n",
        "            self.np_random, _ = gym.utils.seeding.np_random(seed)\n",
        "\n",
        "        self.t = 0\n",
        "        self.w_prev = np.zeros(self.n_assets, dtype=np.float32)\n",
        "        self.equity = 1.0\n",
        "        self.equity_series = [self.equity]\n",
        "        self.peak = self.equity\n",
        "\n",
        "        obs = np.concatenate([self.state[self.t], self.w_prev]).astype(np.float32)\n",
        "        return obs, {}\n",
        "\n",
        "    def step(self, action):\n",
        "        # sanitize action\n",
        "        a = np.nan_to_num(action, nan=0.0, posinf=0.0, neginf=0.0).astype(np.float32)\n",
        "        s = float(a.sum())\n",
        "        if s <= 1e-8:\n",
        "            a = np.ones_like(a) / float(len(a))\n",
        "        else:\n",
        "            a = a / s\n",
        "\n",
        "        # realized return vector at t\n",
        "        r_vec = self.returns.iloc[self.t].values.astype(np.float32)\n",
        "        r_vec = np.nan_to_num(r_vec, nan=0.0, posinf=0.0, neginf=0.0)\n",
        "\n",
        "        # gross portfolio return\n",
        "        gross_ret = float(np.dot(a, r_vec))\n",
        "\n",
        "        # transaction cost\n",
        "        turnover = float(np.abs(a - self.w_prev).sum())\n",
        "        tcost = float(np.dot(self.tcosts, np.abs(a - self.w_prev)))\n",
        "\n",
        "        # update equity\n",
        "        net_ret = gross_ret - tcost\n",
        "        self.equity *= (1.0 + net_ret)\n",
        "        self.equity_series.append(self.equity)\n",
        "\n",
        "        # drawdown penalty\n",
        "        if self.equity > self.peak:\n",
        "            self.peak = self.equity\n",
        "        drawdown = (self.peak - self.equity) / (self.peak + 1e-12)\n",
        "        drawdown_pen = self.drawdown_lambda * drawdown\n",
        "\n",
        "        # turnover penalty\n",
        "        turnover_pen = self.turnover_penalty * turnover\n",
        "\n",
        "        # reward\n",
        "        reward = net_ret - drawdown_pen - turnover_pen\n",
        "\n",
        "        # update previous weights\n",
        "        self.w_prev = a\n",
        "\n",
        "        # advance time\n",
        "        self.t += 1\n",
        "        done = self.t >= (self.T - 1)\n",
        "\n",
        "        # produce next observation (if done, return last row)\n",
        "        next_state = self.state[self.t] if not done else self.state[-1]\n",
        "        obs = np.concatenate([next_state, self.w_prev]).astype(np.float32)\n",
        "\n",
        "        info = {\n",
        "            \"gross_ret\": gross_ret,\n",
        "            \"net_ret\": net_ret,\n",
        "            \"tcost\": tcost,\n",
        "            \"turnover\": turnover,\n",
        "            \"drawdown\": drawdown,\n",
        "            \"equity\": self.equity\n",
        "        }\n",
        "\n",
        "        # Gymnasium expects: obs, reward, terminated, truncated, info\n",
        "        # SB3 accepts both older and newer formats; return terminated=done, truncated=False\n",
        "        return obs, float(reward), bool(done), False, info\n",
        "\n",
        "    def render(self, mode=\"human\"):\n",
        "        print(f\"t={self.t} equity={self.equity:.4f} peak={self.peak:.4f}\")\n"
      ],
      "metadata": {
        "id": "CeJy078gnO-6"
      },
      "execution_count": null,
      "outputs": []
    },
    {
      "cell_type": "code",
      "source": [
        "# Cell 11 (REPLACEMENT) - Train PPO (call this after replacing env above)\n",
        "from stable_baselines3 import PPO\n",
        "from stable_baselines3.common.vec_env import DummyVecEnv, VecNormalize\n",
        "from stable_baselines3.common.env_util import make_vec_env\n",
        "\n",
        "# hyperparams (tweak if needed)\n",
        "tcosts = [0.0005, 0.0008, 0.0010]\n",
        "turnover_penalty = 0.0\n",
        "drawdown_lambda = 0.5\n",
        "\n",
        "def make_env_fn():\n",
        "    def _init():\n",
        "        return PortfolioEnv(\n",
        "            prices=prices_aligned,\n",
        "            returns=rets_aligned,\n",
        "            state_df=state,\n",
        "            tcosts=tcosts,\n",
        "            turnover_penalty=turnover_penalty,\n",
        "            drawdown_lambda=drawdown_lambda,\n",
        "            seed=SEED\n",
        "        )\n",
        "    return _init\n",
        "\n",
        "# vectorized env (n_envs=1 for determinism)\n",
        "vec_env = make_vec_env(make_env_fn(), n_envs=1, seed=SEED)\n",
        "\n",
        "model = PPO(\n",
        "    policy=\"MlpPolicy\",\n",
        "    env=vec_env,\n",
        "    verbose=1,\n",
        "    seed=SEED,\n",
        "    device=\"auto\",\n",
        "    learning_rate=3e-4,\n",
        "    n_steps=2048,\n",
        "    batch_size=512,\n",
        "    ent_coef=0.0\n",
        ")\n",
        "\n",
        "print(\"🚀 Starting PPO training (short test)...\")\n",
        "# For quick sanity-run set a small number like 2000; change to RL_TIMESTEPS for full train\n",
        "model.learn(total_timesteps=min(2000, RL_TIMESTEPS))\n",
        "print(\"✅ Training finished.\")\n"
      ],
      "metadata": {
        "colab": {
          "base_uri": "https://localhost:8080/"
        },
        "id": "VZFH0QkoMV4D",
        "outputId": "b53613ad-a369-42ae-bb56-4191001e1740"
      },
      "execution_count": null,
      "outputs": [
        {
          "output_type": "stream",
          "name": "stdout",
          "text": [
            "Using cuda device\n",
            "🚀 Starting PPO training (short test)...\n",
            "-----------------------------\n",
            "| time/              |      |\n",
            "|    fps             | 640  |\n",
            "|    iterations      | 1    |\n",
            "|    time_elapsed    | 3    |\n",
            "|    total_timesteps | 2048 |\n",
            "-----------------------------\n",
            "✅ Training finished.\n"
          ]
        }
      ]
    },
    {
      "cell_type": "code",
      "source": [
        "# Cell 12 - Evaluate PPO policy\n",
        "import numpy as np\n",
        "\n",
        "# Rebuild a fresh environment for evaluation\n",
        "eval_env = PortfolioEnv(\n",
        "    prices=prices_aligned,\n",
        "    returns=rets_aligned,\n",
        "    state_df=state,\n",
        "    tcosts=tcosts,\n",
        "    turnover_penalty=turnover_penalty,\n",
        "    drawdown_lambda=drawdown_lambda,\n",
        "    seed=SEED\n",
        ")\n",
        "\n",
        "obs, _ = eval_env.reset()\n",
        "equity_curve = []\n",
        "\n",
        "for t in range(len(prices_aligned) - 1):\n",
        "    action, _ = model.predict(obs, deterministic=True)\n",
        "    obs, reward, done, _, info = eval_env.step(action)\n",
        "    equity_curve.append(info[\"equity\"])\n",
        "    if done:\n",
        "        break\n",
        "\n",
        "equity_curve = np.array(equity_curve)\n",
        "dates = prices_aligned.index[:len(equity_curve)]\n",
        "\n",
        "# Performance metrics\n",
        "rets_policy = np.diff(np.log(equity_curve + 1e-12))\n",
        "mean_ret = np.mean(rets_policy)\n",
        "std_ret = np.std(rets_policy)\n",
        "sharpe = mean_ret / (std_ret + 1e-8) * np.sqrt(252)   # annualized Sharpe\n",
        "\n",
        "cum_return = equity_curve[-1] / equity_curve[0] - 1 if len(equity_curve) > 1 else 0\n",
        "running_max = np.maximum.accumulate(equity_curve)\n",
        "drawdowns = (running_max - equity_curve) / (running_max + 1e-12)\n",
        "max_dd = np.max(drawdowns)\n",
        "\n",
        "print(\"📊 Policy Evaluation Results\")\n",
        "print(f\"Final Equity: {equity_curve[-1]:.3f}\")\n",
        "print(f\"Cumulative Return: {cum_return*100:.2f}%\")\n",
        "print(f\"Annualized Sharpe: {sharpe:.3f}\")\n",
        "print(f\"Max Drawdown: {max_dd*100:.2f}%\")\n"
      ],
      "metadata": {
        "id": "x44OPRN6nSQ0",
        "colab": {
          "base_uri": "https://localhost:8080/"
        },
        "outputId": "b0925ac8-c715-4af9-f9a0-d3c73fb3ae20"
      },
      "execution_count": null,
      "outputs": [
        {
          "output_type": "stream",
          "name": "stdout",
          "text": [
            "📊 Policy Evaluation Results\n",
            "Final Equity: 1.863\n",
            "Cumulative Return: 86.20%\n",
            "Annualized Sharpe: 0.265\n",
            "Max Drawdown: 48.69%\n"
          ]
        }
      ]
    },
    {
      "cell_type": "code",
      "source": [
        "# Cell 13 - Fixed Plot equity vs assets\n",
        "plt.figure(figsize=(12,6))\n",
        "plt.plot(dates, equity_curve, label=\"RL Portfolio\", linewidth=2)\n",
        "\n",
        "# Compare with individual assets (normalize and align length)\n",
        "for col in prices_aligned.columns:\n",
        "    normed = prices_aligned[col] / prices_aligned[col].iloc[0]\n",
        "    normed = normed.iloc[:len(dates)]   # align to same length as equity_curve\n",
        "    plt.plot(dates, normed, alpha=0.7, linestyle=\"--\", label=f\"{col[0]}\")\n",
        "\n",
        "plt.title(\"Portfolio Equity vs. Assets\")\n",
        "plt.legend()\n",
        "plt.grid(True)\n",
        "plt.show()\n"
      ],
      "metadata": {
        "id": "MA8SJrVBnU_k",
        "colab": {
          "base_uri": "https://localhost:8080/",
          "height": 545
        },
        "outputId": "3383acb6-f18a-4bfe-ed1f-3422e9b576c9"
      },
      "execution_count": null,
      "outputs": [
        {
          "output_type": "display_data",
          "data": {
            "text/plain": [
              "<Figure size 1200x600 with 1 Axes>"
            ],
            "image/png": "[encoded data removed]"
          },
          "metadata": {}
        }
      ]
    },
    {
      "cell_type": "code",
      "source": [
        "# Cell 14 - Inspect allocations\n",
        "allocs = np.array(eval_env.equity_series[1:])  # equity already stored, but not weights\n",
        "# Instead, store weights during loop:\n",
        "weights = []\n",
        "obs, _ = eval_env.reset()\n",
        "for t in range(len(prices_aligned) - 1):\n",
        "    action, _ = model.predict(obs, deterministic=True)\n",
        "    weights.append(action / (np.sum(action) + 1e-8))\n",
        "    obs, reward, done, _, info = eval_env.step(action)\n",
        "    if done: break\n",
        "\n",
        "weights = np.array(weights)\n",
        "plt.figure(figsize=(12,6))\n",
        "for i, col in enumerate(prices_aligned.columns):\n",
        "    plt.plot(dates[:len(weights)], weights[:, i], label=col[0])\n",
        "\n",
        "plt.title(\"Asset Allocation Over Time\")\n",
        "plt.legend()\n",
        "plt.show()\n"
      ],
      "metadata": {
        "colab": {
          "base_uri": "https://localhost:8080/",
          "height": 545
        },
        "id": "zZKrPDNxL9vX",
        "outputId": "3fed18d8-f0a8-45c9-8ebb-02550eb0e1cd"
      },
      "execution_count": null,
      "outputs": [
        {
          "output_type": "display_data",
          "data": {
            "text/plain": [
              "<Figure size 1200x600 with 1 Axes>"
            ],
            "image/png": "[encoded data removed]"
          },
          "metadata": {}
        }
      ]
    },
    {
      "cell_type": "code",
      "source": [],
      "metadata": {
        "id": "G2ReLdQiUTq_"
      },
      "execution_count": null,
      "outputs": []
    }
  ]
}